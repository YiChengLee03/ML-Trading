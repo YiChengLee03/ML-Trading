{
 "cells": [
  {
   "cell_type": "code",
   "execution_count": 275,
   "metadata": {},
   "outputs": [],
   "source": [
    "import pandas as pd\n",
    "import numpy as np\n",
    "import yfinance as yf\n",
    "from sklearn.linear_model import LogisticRegression\n",
    "from sklearn.model_selection import train_test_split\n",
    "\n",
    "import matplotlib.pyplot as plt"
   ]
  },
  {
   "cell_type": "code",
   "execution_count": 276,
   "metadata": {},
   "outputs": [],
   "source": [
    "start = \"2000\"\n",
    "end = \"2023\"\n",
    "test_size = 0.3"
   ]
  },
  {
   "cell_type": "code",
   "execution_count": 277,
   "metadata": {},
   "outputs": [
    {
     "name": "stdout",
     "output_type": "stream",
     "text": [
      "[*********************100%***********************]  1 of 1 completed\n"
     ]
    }
   ],
   "source": [
    "SPY = yf.download(\"SPY\", f\"{start}-01-01\", f\"{end}-06-30\", interval='1d')[\"Close\"].to_frame()\n",
    "SPY.rename(columns={\"Close\":\"SPY\"}, inplace=True)"
   ]
  },
  {
   "cell_type": "code",
   "execution_count": 278,
   "metadata": {},
   "outputs": [],
   "source": [
    "lags = 5\n",
    "cols = []\n",
    "instrument = pd.DataFrame()\n",
    "instrument[\"Returns\"] = np.log(SPY/SPY.shift())\n",
    "instrument[\"Direction\"] = np.sign(instrument[\"Returns\"])\n",
    "instrument[\"Std\"] = instrument[\"Returns\"].std()\n",
    "for lag in range (1, lags+1):\n",
    "    col = f\"ret_lag_{lag}\"\n",
    "    instrument[col] = instrument.Returns.shift(lag)\n",
    "    cols.append(col)\n",
    "for lag in range (1, lags+1):\n",
    "    col = f\"std_lag_{lag}\"\n",
    "    instrument[col] = instrument.Std.shift(lag)\n",
    "    cols.append(col)\n",
    "instrument.dropna(inplace = True)"
   ]
  },
  {
   "cell_type": "code",
   "execution_count": 279,
   "metadata": {},
   "outputs": [
    {
     "data": {
      "text/plain": [
       " 1.0    5501\n",
       "-1.0     403\n",
       "Name: Pred, dtype: int64"
      ]
     },
     "execution_count": 279,
     "metadata": {},
     "output_type": "execute_result"
    }
   ],
   "source": [
    "X = instrument[cols]\n",
    "y = instrument.Direction\n",
    "X_train, X_test, y_train, y_test = train_test_split(X, y, test_size=test_size)\n",
    "instrumentModel = LogisticRegression(C = 1e6, max_iter = 100000, multi_class = \"ovr\")\n",
    "instrumentModel.fit(X_train, y_train)\n",
    "instrument[\"Pred\"] = instrumentModel.predict(instrument[cols])\n",
    "instrument.Pred.value_counts()"
   ]
  },
  {
   "cell_type": "code",
   "execution_count": 280,
   "metadata": {},
   "outputs": [],
   "source": [
    "FFR = pd.read_csv(\"FederalFundsRate.csv\", index_col=\"Date\", parse_dates=[\"Date\"]).loc[start:end]\n",
    "Core_CPI = pd.read_csv(\"CoreCPI.csv\", index_col=\"Date\", parse_dates=[\"Date\"]).loc[start:end]\n",
    "PPI = pd.read_csv(\"PPI.csv\", index_col=\"Date\", parse_dates=[\"Date\"]).loc[start:end]\n",
    "Unemployment = pd.read_csv(\"UnemploymentRate.csv\", index_col=\"Date\", parse_dates=[\"Date\"]).loc[start:end]\n",
    "GDP = pd.read_csv(\"GDP.csv\", index_col=\"Date\", parse_dates=[\"Date\"]).loc[start:end]"
   ]
  },
  {
   "cell_type": "code",
   "execution_count": 281,
   "metadata": {},
   "outputs": [],
   "source": [
    "df = pd.concat([FFR, Core_CPI, PPI, Unemployment, GDP], axis=1, join=\"outer\").dropna(how=\"all\").ffill()\n",
    "df.bfill(inplace=True)\n",
    "df.index = pd.to_datetime(df.index)\n",
    "df = pd.concat([SPY, df], axis=1, join=\"inner\")"
   ]
  },
  {
   "cell_type": "code",
   "execution_count": 282,
   "metadata": {},
   "outputs": [],
   "source": [
    "macro = pd.DataFrame()\n",
    "# bar movement when there is a change in features\n",
    "macro[\"Direction2\"] = np.sign(np.log(df.SPY/df.SPY.shift())).shift(-1)   \n",
    "macro[\"delFFR\"] = df.FFR - df.FFR.shift()\n",
    "macro[\"delCPI\"] = df.FFR - df.FFR.shift()\n",
    "macro[\"delPPI\"] = df.FFR - df.FFR.shift()\n",
    "macro[\"delUnemployment\"] = df.Unemployment - df.Unemployment.shift()\n",
    "macro[\"delGDP\"] = np.log(df.GDP/df.GDP.shift())\n",
    "macro.dropna(inplace=True)"
   ]
  },
  {
   "cell_type": "code",
   "execution_count": 283,
   "metadata": {},
   "outputs": [],
   "source": [
    "lags = 5\n",
    "features = [\"delFFR\", \"delCPI\", \"delPPI\", \"delUnemployment\", \"delGDP\"]\n",
    "macroCols = []\n",
    "for feat in features:\n",
    "    for lag in range (1, 1+lags):\n",
    "        col = f\"{feat}_{lag}\"\n",
    "        macro[col] = macro[feat].shift(lag)\n",
    "        macroCols.append(col)\n",
    "macro.dropna(inplace=True)"
   ]
  },
  {
   "cell_type": "code",
   "execution_count": 284,
   "metadata": {},
   "outputs": [
    {
     "data": {
      "text/plain": [
       " 1.0    205\n",
       "-1.0     28\n",
       "Name: Pred2, dtype: int64"
      ]
     },
     "execution_count": 284,
     "metadata": {},
     "output_type": "execute_result"
    }
   ],
   "source": [
    "# X = macro[[\"delFFR\", \"delCPI\", \"delPPI\", \"delUnemployment\", \"delGDP\"]]\n",
    "X = macro[macroCols]\n",
    "y = macro.Direction2\n",
    "X_train, X_test, y_train, y_test = train_test_split(X, y, test_size=test_size)\n",
    "macroModel = LogisticRegression(C = 1e6, max_iter = 100000, multi_class = \"ovr\")\n",
    "macroModel.fit(X_train, y_train)\n",
    "macro[\"Pred2\"] = macroModel.predict(X)\n",
    "macro.Pred2.value_counts()"
   ]
  },
  {
   "cell_type": "code",
   "execution_count": 285,
   "metadata": {},
   "outputs": [
    {
     "data": {
      "text/plain": [
       " 1.0    5084\n",
       "-1.0     722\n",
       "Name: Pred2, dtype: int64"
      ]
     },
     "execution_count": 285,
     "metadata": {},
     "output_type": "execute_result"
    }
   ],
   "source": [
    "data = pd.concat([instrument, macro], axis=1, join=\"outer\").ffill().dropna()\n",
    "data[\"Position\"] = np.where((data[\"Pred\"] * data[\"Pred2\"] > 0), 1, 0)\n",
    "# data[\"Position\"] = np.where((data[\"Pred\"] > 0), 1, 0)\n",
    "data[\"Strategy\"] = data[\"Position\"] * data[\"Returns\"]\n",
    "data[\"creturns\"] = data[\"Returns\"].cumsum().apply(np.exp)\n",
    "data[\"cstrategy\"] = data[\"Strategy\"].cumsum().apply(np.exp)\n",
    "data.Pred2.value_counts()\n",
    "# data"
   ]
  },
  {
   "cell_type": "code",
   "execution_count": 286,
   "metadata": {},
   "outputs": [
    {
     "data": {
      "image/png": "[encoded data removed]",
      "text/plain": [
       "<Figure size 1200x800 with 1 Axes>"
      ]
     },
     "metadata": {},
     "output_type": "display_data"
    }
   ],
   "source": [
    "data[[\"creturns\", \"cstrategy\"]].plot(figsize = (12 , 8))\n",
    "plt.show()"
   ]
  },
  {
   "cell_type": "code",
   "execution_count": 287,
   "metadata": {},
   "outputs": [
    {
     "data": {
      "text/plain": [
       "0.0    5226\n",
       "2.0     580\n",
       "Name: trades, dtype: int64"
      ]
     },
     "execution_count": 287,
     "metadata": {},
     "output_type": "execute_result"
    }
   ],
   "source": [
    "data[\"trades\"] = data.Pred.diff().fillna(0).abs()\n",
    "data.trades.value_counts()"
   ]
  },
  {
   "cell_type": "code",
   "execution_count": 288,
   "metadata": {},
   "outputs": [
    {
     "data": {
      "text/plain": [
       "0.4441956596624182"
      ]
     },
     "execution_count": 288,
     "metadata": {},
     "output_type": "execute_result"
    }
   ],
   "source": [
    "hits = np.sign(data.Returns*data.Position).value_counts()\n",
    "hit_ratio = hits[1.0]/sum(hits)\n",
    "hit_ratio"
   ]
  },
  {
   "cell_type": "code",
   "execution_count": 289,
   "metadata": {},
   "outputs": [
    {
     "data": {
      "text/html": [
       "<div>\n",
       "<style scoped>\n",
       "    .dataframe tbody tr th:only-of-type {\n",
       "        vertical-align: middle;\n",
       "    }\n",
       "\n",
       "    .dataframe tbody tr th {\n",
       "        vertical-align: top;\n",
       "    }\n",
       "\n",
       "    .dataframe thead th {\n",
       "        text-align: right;\n",
       "    }\n",
       "</style>\n",
       "<table border=\"1\" class=\"dataframe\">\n",
       "  <thead>\n",
       "    <tr style=\"text-align: right;\">\n",
       "      <th></th>\n",
       "      <th>Returns</th>\n",
       "      <th>Direction</th>\n",
       "      <th>Std</th>\n",
       "      <th>ret_lag_1</th>\n",
       "      <th>ret_lag_2</th>\n",
       "      <th>ret_lag_3</th>\n",
       "      <th>ret_lag_4</th>\n",
       "      <th>ret_lag_5</th>\n",
       "      <th>std_lag_1</th>\n",
       "      <th>std_lag_2</th>\n",
       "      <th>...</th>\n",
       "      <th>delGDP_2</th>\n",
       "      <th>delGDP_3</th>\n",
       "      <th>delGDP_4</th>\n",
       "      <th>delGDP_5</th>\n",
       "      <th>Pred2</th>\n",
       "      <th>Position</th>\n",
       "      <th>Strategy</th>\n",
       "      <th>creturns</th>\n",
       "      <th>cstrategy</th>\n",
       "      <th>trades</th>\n",
       "    </tr>\n",
       "    <tr>\n",
       "      <th>Date</th>\n",
       "      <th></th>\n",
       "      <th></th>\n",
       "      <th></th>\n",
       "      <th></th>\n",
       "      <th></th>\n",
       "      <th></th>\n",
       "      <th></th>\n",
       "      <th></th>\n",
       "      <th></th>\n",
       "      <th></th>\n",
       "      <th></th>\n",
       "      <th></th>\n",
       "      <th></th>\n",
       "      <th></th>\n",
       "      <th></th>\n",
       "      <th></th>\n",
       "      <th></th>\n",
       "      <th></th>\n",
       "      <th></th>\n",
       "      <th></th>\n",
       "      <th></th>\n",
       "    </tr>\n",
       "  </thead>\n",
       "  <tbody>\n",
       "    <tr>\n",
       "      <th>2023-06-23</th>\n",
       "      <td>-0.007589</td>\n",
       "      <td>-1.0</td>\n",
       "      <td>0.012481</td>\n",
       "      <td>0.003603</td>\n",
       "      <td>-0.005137</td>\n",
       "      <td>-0.005202</td>\n",
       "      <td>-0.007120</td>\n",
       "      <td>0.012321</td>\n",
       "      <td>0.012481</td>\n",
       "      <td>0.012481</td>\n",
       "      <td>...</td>\n",
       "      <td>0.0</td>\n",
       "      <td>0.0</td>\n",
       "      <td>0.014878</td>\n",
       "      <td>0.0</td>\n",
       "      <td>1.0</td>\n",
       "      <td>1</td>\n",
       "      <td>-0.007589</td>\n",
       "      <td>3.033418</td>\n",
       "      <td>5.810003</td>\n",
       "      <td>0.0</td>\n",
       "    </tr>\n",
       "    <tr>\n",
       "      <th>2023-06-26</th>\n",
       "      <td>-0.004094</td>\n",
       "      <td>-1.0</td>\n",
       "      <td>0.012481</td>\n",
       "      <td>-0.007589</td>\n",
       "      <td>0.003603</td>\n",
       "      <td>-0.005137</td>\n",
       "      <td>-0.005202</td>\n",
       "      <td>-0.007120</td>\n",
       "      <td>0.012481</td>\n",
       "      <td>0.012481</td>\n",
       "      <td>...</td>\n",
       "      <td>0.0</td>\n",
       "      <td>0.0</td>\n",
       "      <td>0.014878</td>\n",
       "      <td>0.0</td>\n",
       "      <td>1.0</td>\n",
       "      <td>1</td>\n",
       "      <td>-0.004094</td>\n",
       "      <td>3.021024</td>\n",
       "      <td>5.786265</td>\n",
       "      <td>0.0</td>\n",
       "    </tr>\n",
       "    <tr>\n",
       "      <th>2023-06-27</th>\n",
       "      <td>0.010904</td>\n",
       "      <td>1.0</td>\n",
       "      <td>0.012481</td>\n",
       "      <td>-0.004094</td>\n",
       "      <td>-0.007589</td>\n",
       "      <td>0.003603</td>\n",
       "      <td>-0.005137</td>\n",
       "      <td>-0.005202</td>\n",
       "      <td>0.012481</td>\n",
       "      <td>0.012481</td>\n",
       "      <td>...</td>\n",
       "      <td>0.0</td>\n",
       "      <td>0.0</td>\n",
       "      <td>0.014878</td>\n",
       "      <td>0.0</td>\n",
       "      <td>1.0</td>\n",
       "      <td>1</td>\n",
       "      <td>0.010904</td>\n",
       "      <td>3.054145</td>\n",
       "      <td>5.849701</td>\n",
       "      <td>0.0</td>\n",
       "    </tr>\n",
       "    <tr>\n",
       "      <th>2023-06-28</th>\n",
       "      <td>0.000504</td>\n",
       "      <td>1.0</td>\n",
       "      <td>0.012481</td>\n",
       "      <td>0.010904</td>\n",
       "      <td>-0.004094</td>\n",
       "      <td>-0.007589</td>\n",
       "      <td>0.003603</td>\n",
       "      <td>-0.005137</td>\n",
       "      <td>0.012481</td>\n",
       "      <td>0.012481</td>\n",
       "      <td>...</td>\n",
       "      <td>0.0</td>\n",
       "      <td>0.0</td>\n",
       "      <td>0.014878</td>\n",
       "      <td>0.0</td>\n",
       "      <td>1.0</td>\n",
       "      <td>1</td>\n",
       "      <td>0.000504</td>\n",
       "      <td>3.055685</td>\n",
       "      <td>5.852652</td>\n",
       "      <td>0.0</td>\n",
       "    </tr>\n",
       "    <tr>\n",
       "      <th>2023-06-29</th>\n",
       "      <td>0.003934</td>\n",
       "      <td>1.0</td>\n",
       "      <td>0.012481</td>\n",
       "      <td>0.000504</td>\n",
       "      <td>0.010904</td>\n",
       "      <td>-0.004094</td>\n",
       "      <td>-0.007589</td>\n",
       "      <td>0.003603</td>\n",
       "      <td>0.012481</td>\n",
       "      <td>0.012481</td>\n",
       "      <td>...</td>\n",
       "      <td>0.0</td>\n",
       "      <td>0.0</td>\n",
       "      <td>0.014878</td>\n",
       "      <td>0.0</td>\n",
       "      <td>1.0</td>\n",
       "      <td>1</td>\n",
       "      <td>0.003934</td>\n",
       "      <td>3.067729</td>\n",
       "      <td>5.875719</td>\n",
       "      <td>0.0</td>\n",
       "    </tr>\n",
       "  </tbody>\n",
       "</table>\n",
       "<p>5 rows × 51 columns</p>\n",
       "</div>"
      ],
      "text/plain": [
       "             Returns  Direction       Std  ret_lag_1  ret_lag_2  ret_lag_3  \\\n",
       "Date                                                                         \n",
       "2023-06-23 -0.007589       -1.0  0.012481   0.003603  -0.005137  -0.005202   \n",
       "2023-06-26 -0.004094       -1.0  0.012481  -0.007589   0.003603  -0.005137   \n",
       "2023-06-27  0.010904        1.0  0.012481  -0.004094  -0.007589   0.003603   \n",
       "2023-06-28  0.000504        1.0  0.012481   0.010904  -0.004094  -0.007589   \n",
       "2023-06-29  0.003934        1.0  0.012481   0.000504   0.010904  -0.004094   \n",
       "\n",
       "            ret_lag_4  ret_lag_5  std_lag_1  std_lag_2  ...  delGDP_2  \\\n",
       "Date                                                    ...             \n",
       "2023-06-23  -0.007120   0.012321   0.012481   0.012481  ...       0.0   \n",
       "2023-06-26  -0.005202  -0.007120   0.012481   0.012481  ...       0.0   \n",
       "2023-06-27  -0.005137  -0.005202   0.012481   0.012481  ...       0.0   \n",
       "2023-06-28   0.003603  -0.005137   0.012481   0.012481  ...       0.0   \n",
       "2023-06-29  -0.007589   0.003603   0.012481   0.012481  ...       0.0   \n",
       "\n",
       "            delGDP_3  delGDP_4  delGDP_5  Pred2  Position  Strategy  creturns  \\\n",
       "Date                                                                            \n",
       "2023-06-23       0.0  0.014878       0.0    1.0         1 -0.007589  3.033418   \n",
       "2023-06-26       0.0  0.014878       0.0    1.0         1 -0.004094  3.021024   \n",
       "2023-06-27       0.0  0.014878       0.0    1.0         1  0.010904  3.054145   \n",
       "2023-06-28       0.0  0.014878       0.0    1.0         1  0.000504  3.055685   \n",
       "2023-06-29       0.0  0.014878       0.0    1.0         1  0.003934  3.067729   \n",
       "\n",
       "            cstrategy  trades  \n",
       "Date                           \n",
       "2023-06-23   5.810003     0.0  \n",
       "2023-06-26   5.786265     0.0  \n",
       "2023-06-27   5.849701     0.0  \n",
       "2023-06-28   5.852652     0.0  \n",
       "2023-06-29   5.875719     0.0  \n",
       "\n",
       "[5 rows x 51 columns]"
      ]
     },
     "execution_count": 289,
     "metadata": {},
     "output_type": "execute_result"
    }
   ],
   "source": [
    "data.tail()"
   ]
  },
  {
   "cell_type": "code",
   "execution_count": null,
   "metadata": {},
   "outputs": [],
   "source": []
  }
 ],
 "metadata": {
  "kernelspec": {
   "display_name": "algoTrading",
   "language": "python",
   "name": "python3"
  },
  "language_info": {
   "codemirror_mode": {
    "name": "ipython",
    "version": 3
   },
   "file_extension": ".py",
   "mimetype": "text/x-python",
   "name": "python",
   "nbconvert_exporter": "python",
   "pygments_lexer": "ipython3",
   "version": "3.11.3"
  },
  "orig_nbformat": 4
 },
 "nbformat": 4,
 "nbformat_minor": 2
}
